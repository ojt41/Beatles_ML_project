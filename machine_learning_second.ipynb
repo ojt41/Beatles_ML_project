{
 "cells": [
  {
   "cell_type": "code",
   "execution_count": 4,
   "id": "bd306cf3-5b6e-45c9-b739-32eb9f3ad399",
   "metadata": {
    "tags": []
   },
   "outputs": [],
   "source": [
    "# Basic imports\n",
    "import numpy as np\n",
    "import pandas as pd\n",
    "import matplotlib.pyplot as plt\n",
    "import seaborn\n",
    "import os\n",
    "\n",
    "# Regression import\n",
    "from sklearn.model_selection import train_test_split # for splitting the data\n",
    "from sklearn.metrics import mean_squared_error # for calculating the cost function\n",
    "from sklearn.ensemble import RandomForestRegressor # for building the model\n",
    "from sklearn.metrics import accuracy_score\n",
    "\n",
    "# Configure code auto-completion\n",
    "%config Completer.use_jedi = False\n",
    "\n",
    "# Set working directory\n",
    "os.chdir('/notebooks/ml project/')"
   ]
  },
  {
   "cell_type": "code",
   "execution_count": 5,
   "id": "a97526f2-ac9c-476d-a325-2d8ff5b548d3",
   "metadata": {
    "tags": []
   },
   "outputs": [],
   "source": [
    "data = pd.read_csv(\"new_csv.csv\") "
   ]
  },
  {
   "cell_type": "code",
   "execution_count": 6,
   "id": "b6d410b8-e408-4028-b37d-4b4a258dc995",
   "metadata": {
    "tags": []
   },
   "outputs": [],
   "source": [
    "# Define the feature vector by non-feature columns\n",
    "x = (data.drop([\"name\", \"album\", \"popularity\"], axis=1))\n",
    "\n",
    "# Define the label \n",
    "y = data[\"popularity\"]"
   ]
  },
  {
   "cell_type": "code",
   "execution_count": 7,
   "id": "afeaea3d-a260-4b1e-87ee-ae2a2a578890",
   "metadata": {
    "tags": []
   },
   "outputs": [],
   "source": [
    "# Splitting the dataset into training (60%), validation (20%), and testing (20%) sets\n",
    "x_train, x_temp, y_train, y_temp = train_test_split(x, y, test_size=0.4, random_state=28)\n",
    "x_val, x_test, y_val, y_test = train_test_split(x_temp, y_temp, test_size=0.5, random_state=28)"
   ]
  },
  {
   "cell_type": "code",
   "execution_count": 22,
   "id": "77e827c0-c025-4db6-bab0-009e91a53590",
   "metadata": {
    "tags": []
   },
   "outputs": [
    {
     "name": "stdout",
     "output_type": "stream",
     "text": [
      "\n",
      "MSE:  106.459 for n= 20\n",
      "\n",
      "MSE:  108.115 for n= 30\n",
      "\n",
      "MSE:  108.844 for n= 40\n",
      "\n",
      "MSE:  107.531 for n= 50\n",
      "\n",
      "MSE:  107.716 for n= 60\n",
      "\n",
      "MSE:  107.354 for n= 70\n",
      "\n",
      "MSE:  106.873 for n= 80\n",
      "\n",
      "MSE:  106.696 for n= 90\n",
      "\n",
      "MSE:  106.493 for n= 100\n",
      "\n",
      "MSE:  105.786 for n= 110\n",
      "\n",
      "MSE:  105.669 for n= 120\n",
      "\n",
      "MSE:  105.954 for n= 130\n",
      "\n",
      "MSE:  105.699 for n= 140\n",
      "\n",
      "MSE:  105.975 for n= 150\n",
      "\n",
      "MSE:  105.991 for n= 160\n",
      "\n",
      "MSE:  106.121 for n= 170\n",
      "\n",
      "MSE:  106.28 for n= 180\n",
      "\n",
      "MSE:  106.632 for n= 190\n",
      "\n",
      "MSE:  106.372 for n= 200\n",
      "\n",
      "MSE:  106.032 for n= 210\n",
      "\n",
      "MSE:  105.931 for n= 220\n",
      "\n",
      "MSE:  105.885 for n= 230\n",
      "\n",
      "MSE:  106.046 for n= 240\n",
      "\n",
      "MSE:  105.841 for n= 250\n",
      "\n",
      "MSE:  106.058 for n= 260\n",
      "\n",
      "MSE:  106.103 for n= 270\n",
      "\n",
      "MSE:  105.951 for n= 280\n",
      "\n",
      "MSE:  105.934 for n= 290\n",
      "\n",
      "MSE:  105.911 for n= 300\n",
      "\n",
      "MSE:  105.741 for n= 310\n",
      "\n",
      "MSE:  105.801 for n= 320\n",
      "\n",
      "MSE:  105.885 for n= 330\n",
      "\n",
      "MSE:  105.873 for n= 340\n",
      "\n",
      "MSE:  105.879 for n= 350\n",
      "\n",
      "MSE:  105.802 for n= 360\n",
      "\n",
      "MSE:  105.701 for n= 370\n",
      "\n",
      "MSE:  105.666 for n= 380\n",
      "\n",
      "MSE:  105.784 for n= 390\n",
      "\n",
      "MSE:  105.918 for n= 400\n",
      "\n",
      "MSE:  105.811 for n= 410\n",
      "\n",
      "MSE:  105.814 for n= 420\n",
      "\n",
      "MSE:  105.951 for n= 430\n",
      "\n",
      "MSE:  106.017 for n= 440\n",
      "\n",
      "MSE:  106.095 for n= 450\n",
      "\n",
      "MSE:  106.039 for n= 460\n",
      "\n",
      "MSE:  106.115 for n= 470\n",
      "\n",
      "MSE:  106.318 for n= 480\n",
      "\n",
      "MSE:  106.356 for n= 490\n"
     ]
    }
   ],
   "source": [
    "n_and_mses = {}\n",
    "\n",
    "for n in range(20, 500, 10):\n",
    "    # Initializing the Random Forest Regression model\n",
    "    model = RandomForestRegressor(n_estimators=n, random_state=0, max_depth= 5)\n",
    "\n",
    "    # Fitting the Random Forest Regression model to the training data\n",
    "    model.fit(x_train, y_train)\n",
    "\n",
    "    # Predicting the target values of the validation set\n",
    "    y_pred = model.predict(x_val)\n",
    "\n",
    "    # MSE ( Mean Square Error) on the validation set\n",
    "    mse = float(format(mean_squared_error(y_val, y_pred), '.3f'))\n",
    "    n_and_mses[n] = mse\n",
    "    print(\"\\nMSE: \", mse, \"for n=\", n)"
   ]
  },
  {
   "cell_type": "code",
   "execution_count": 25,
   "id": "f221787a-13a7-4af3-bf59-f93e406fe1e9",
   "metadata": {
    "tags": []
   },
   "outputs": [
    {
     "ename": "NameError",
     "evalue": "name 'second_minrmse_idx' is not defined",
     "output_type": "error",
     "traceback": [
      "\u001b[0;31m---------------------------------------------------------------------------\u001b[0m",
      "\u001b[0;31mNameError\u001b[0m                                 Traceback (most recent call last)",
      "Cell \u001b[0;32mIn[25], line 13\u001b[0m\n\u001b[1;32m     11\u001b[0m min_mse \u001b[38;5;241m=\u001b[39m y_cord[min_mse_idx]\n\u001b[1;32m     12\u001b[0m min_estimators \u001b[38;5;241m=\u001b[39m x_cord[min_mse_idx]\n\u001b[0;32m---> 13\u001b[0m second_min_mse \u001b[38;5;241m=\u001b[39m y_cord[\u001b[43msecond_minrmse_idx\u001b[49m]\n\u001b[1;32m     14\u001b[0m second_min_estimators \u001b[38;5;241m=\u001b[39m x_cord[second_min_mse_idx]\n\u001b[1;32m     16\u001b[0m \u001b[38;5;66;03m# Create a scatter plot\u001b[39;00m\n",
      "\u001b[0;31mNameError\u001b[0m: name 'second_minrmse_idx' is not defined"
     ]
    }
   ],
   "source": [
    "import matplotlib.pyplot as plt\n",
    "\n",
    "\n",
    "# Extract keys and values from the dictionary\n",
    "x_cord = list(n_and_mses.keys())\n",
    "y_cord = list(n_and_mses.values())\n",
    "\n",
    "# Find the minimum and second minimum MSE values along with their corresponding number of estimators\n",
    "sorted_indices = sorted(range(len(y_cord)), key=lambda k: y_cord[k])\n",
    "min_mse_idx, second_min_mse_idx = sorted_indices[:2]\n",
    "min_mse = y_cord[min_mse_idx]\n",
    "min_estimators = x_cord[min_mse_idx]\n",
    "second_min_mse = y_cord[second_min_mse_idx]\n",
    "second_min_estimators = x_cord[second_min_mse_idx]\n",
    "\n",
    "# Create a scatter plot\n",
    "plt.scatter(x_cord, y_cord)\n",
    "\n",
    "# Highlight the minimum and second minimum points\n",
    "plt.scatter(min_estimators, min_mse, color='red', label=f'Minimum: ({min_estimators}, {min_mse})')\n",
    "plt.scatter(second_min_estimators, second_min_mse, color='red', label=f'Second Minimum: ({second_min_estimators}, {second_min_mse})')\n",
    "\n",
    "\n",
    "# Set plot labels and title\n",
    "plt.xlabel('Number of Estimators')\n",
    "plt.ylabel('MSE')\n",
    "plt.title('MSE vs Number of Estimators')\n",
    "\n",
    "# Show the plot with legend\n",
    "plt.legend()\n",
    "plt.show()\n",
    "\n",
    "print(f\"Minimum MSE: {min_mse} at Number of Estimators = {min_estimators}\")\n",
    "print(f\"Second Minimum MSE: {second_min_mse} at Number of Estimators = {second_min_estimators}\")\n"
   ]
  },
  {
   "cell_type": "code",
   "execution_count": 23,
   "id": "c7cbfd21-9a3e-4c42-b150-7c6405c49810",
   "metadata": {
    "tags": []
   },
   "outputs": [
    {
     "name": "stdout",
     "output_type": "stream",
     "text": [
      "\n",
      "Mean squared error for testing dataset: 121.585\n"
     ]
    }
   ],
   "source": [
    "\n",
    "# Initializing the Random Forest Regression model with n_estimators as 220, as it was found to have the lowest MSE among the validation data\n",
    "model = RandomForestRegressor(n_estimators=10, random_state=0)\n",
    "\n",
    "# Fitting the Random Forest Regression model to the training data\n",
    "model.fit(x_train, y_train)\n",
    "\n",
    "# Predicting the target values of the validation set\n",
    "y_pred = model.predict(x_test)\n",
    "\n",
    "# MSE ( Mean Square Error) on the validation set\n",
    "mse = float(format(mean_squared_error(y_test, y_pred), '.3f'))\n",
    "n_and_mses[n] = mse\n",
    "print(\"\\nMean squared error for testing dataset:\", mse)"
   ]
  },
  {
   "cell_type": "code",
   "execution_count": null,
   "id": "121adc1e-d2d0-46d3-be1d-34321e59a6cb",
   "metadata": {},
   "outputs": [],
   "source": []
  }
 ],
 "metadata": {
  "kernelspec": {
   "display_name": "Python 3",
   "language": "python",
   "name": "python3"
  },
  "language_info": {
   "codemirror_mode": {
    "name": "ipython",
    "version": 3
   },
   "file_extension": ".py",
   "mimetype": "text/x-python",
   "name": "python",
   "nbconvert_exporter": "python",
   "pygments_lexer": "ipython3",
   "version": "3.10.8"
  }
 },
 "nbformat": 4,
 "nbformat_minor": 5
}
